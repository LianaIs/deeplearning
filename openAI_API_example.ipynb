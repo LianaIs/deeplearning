import os
import openai
import numpy as np
from openai import OpenAI

# Set your OpenAI API key
# OPENAI_API_KEY = ##

client = OpenAI(
  api_key=OPENAI_API_KEY,  # this is also the default, it can be omitted
)

def get_embedding(text, model="text-embedding-ada-002"):
    response = client.embeddings.create(
        input=text,
        model=model
    )
    embedding = response.data[0].embedding
    return np.array(embedding)

# Function to calculate cosine similarity
def cosine_similarity(a, b):
    return np.dot(a, b) / (np.linalg.norm(a) * np.linalg.norm(b))

# Input and dictionary keys
input_text = "Anal"
keys = [
    'C-Level', 'Executive VP', 'Senior VP', 'VP', 'Head', 'Senior Director',
    'Director', 'Senior Manager', 'Manager', 'Architect', 'Supervisor',
    'Senior Employee', 'Coordinator', 'Analyst', 'Specialist', 'Administrator',
    'Engineer', 'Developer', 'Consultant'
]


# Get embeddings for input and keys
input_embedding = get_embedding(input_text)
key_embeddings = [get_embedding(key) for key in keys]

# Calculate cosine similarities
cosine_similarities = [cosine_similarity(input_embedding, key_emb) for key_emb in key_embeddings]

# Find the most similar key
most_similar_index = np.argmax(cosine_similarities)
most_similar_key = keys[most_similar_index]

print(f"The most similar key is: {most_similar_key}")
